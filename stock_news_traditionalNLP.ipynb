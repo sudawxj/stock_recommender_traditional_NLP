{
 "cells": [
  {
   "cell_type": "code",
   "execution_count": 1,
   "id": "d7af05cd-b0d1-408e-a205-7ae4860efed4",
   "metadata": {},
   "outputs": [],
   "source": [
    "import numpy as np\n",
    "\n",
    "import pandas as pd"
   ]
  },
  {
   "cell_type": "code",
   "execution_count": 2,
   "id": "910ecccb-4b93-44ce-abf5-c1bb2b60ffcf",
   "metadata": {},
   "outputs": [],
   "source": [
    "df = pd.read_csv('../notebook _ app-BZ/0-0-all_news_pc_with_hs_by_news.csv', index_col = [0])"
   ]
  },
  {
   "cell_type": "code",
   "execution_count": 3,
   "id": "1ccd2ff4-89eb-453c-a37c-a35fb2a75f55",
   "metadata": {},
   "outputs": [],
   "source": [
    "# define >0 as 1; <=0 as 0\n",
    "def to_pc_class (x):\n",
    "    if x > 0:\n",
    "        return 1\n",
    "    else:\n",
    "        return 0\n",
    "# def to_pc_class (x):\n",
    "#     if x >= 0.03:\n",
    "#         return 1\n",
    "#     else:\n",
    "#         return 0"
   ]
  },
  {
   "cell_type": "code",
   "execution_count": 4,
   "id": "e2a35b81-3032-4d26-a11e-c6339d83ae24",
   "metadata": {},
   "outputs": [],
   "source": [
    "df['pc_class']=df['price_change'].map(to_pc_class)"
   ]
  },
  {
   "cell_type": "code",
   "execution_count": 5,
   "id": "e5c29d62-517a-458a-a3f9-81cd14a95205",
   "metadata": {
    "tags": []
   },
   "outputs": [],
   "source": [
    "X = df[\"headline\"].fillna(\"fillna\")\n",
    "y = df[\"pc_class\"]"
   ]
  },
  {
   "cell_type": "code",
   "execution_count": 6,
   "id": "24ebb306-3877-40ca-9d7d-2809be5dc765",
   "metadata": {},
   "outputs": [],
   "source": [
    "split_test = int(len(y) * 0.7)\n",
    "X_train = X[0:split_test]\n",
    "X_test = X[split_test:]\n",
    "y_train = y[0:split_test]\n",
    "y_test = y[split_test:]"
   ]
  },
  {
   "cell_type": "code",
   "execution_count": 7,
   "id": "f1e76bb5-3659-4ae2-935b-9548e6e3d9fb",
   "metadata": {},
   "outputs": [
    {
     "data": {
      "text/plain": [
       "19        Cisco earnings should benefit from enterprise ...\n",
       "20                    Reflecting on Twenty Years of NetHope\n",
       "21        Cisco’s Earnings Are Wednesday. Expect News on...\n",
       "22        Dish, Cisco Collaborate To Sell 5G To Enterprises\n",
       "23        Silicon Photonics Explained: Cisco Optics Podc...\n",
       "                                ...                        \n",
       "362374    Centene Corp. stock underperforms Friday when ...\n",
       "362375    Centene Corp. stock outperforms market on stro...\n",
       "362376    Vancity Investment Management Ltd Buys Salesfo...\n",
       "362377    Centene Corp. stock outperforms market on stro...\n",
       "362378    Centene (CNC) Expands Medicare Advantage Offer...\n",
       "Name: headline, Length: 351066, dtype: object"
      ]
     },
     "execution_count": 7,
     "metadata": {},
     "output_type": "execute_result"
    }
   ],
   "source": [
    "X_train"
   ]
  },
  {
   "cell_type": "code",
   "execution_count": 8,
   "id": "3e63086c-91c8-4913-85b0-6984d373621e",
   "metadata": {},
   "outputs": [
    {
     "data": {
      "text/plain": [
       "<AxesSubplot:ylabel='pc_class'>"
      ]
     },
     "execution_count": 8,
     "metadata": {},
     "output_type": "execute_result"
    },
    {
     "data": {
      "image/png": "[encoded data removed]",
      "text/plain": [
       "<Figure size 432x288 with 1 Axes>"
      ]
     },
     "metadata": {},
     "output_type": "display_data"
    }
   ],
   "source": [
    "y.value_counts().plot(kind='pie')"
   ]
  },
  {
   "cell_type": "code",
   "execution_count": 9,
   "id": "1e92cf50-e620-445b-ae54-3515e7070090",
   "metadata": {},
   "outputs": [],
   "source": [
    "import nltk\n",
    "import re\n",
    "from nltk.corpus import stopwords"
   ]
  },
  {
   "cell_type": "code",
   "execution_count": 10,
   "id": "7c7a8627-46da-4bd4-810e-cf7d6fa32449",
   "metadata": {
    "tags": []
   },
   "outputs": [],
   "source": [
    "# #Dataset Preprosessing\n",
    "# from nltk.stem.porter import PorterStemmer\n",
    "# def stem_tokenizer(text):\n",
    "#     ps = PorterStemmer()\n",
    "#     corpus = []\n",
    "#     for i in range(len(X)):\n",
    "\n",
    "#         headline= re.sub('[^a-zA-Z]',' ',X[i])\n",
    "        \n",
    "#         headline = headline.lower()\n",
    "#         # stopwords like “not”,\"aren't\" will be removed, will cause problems.\n",
    "#         headline = headline.split()\n",
    "#         headline = [ps.stem(word) for word in headline]\n",
    "#         headline = ' '.join(headline)\n",
    "#         corpus.append(headline)\n",
    "#     return corpus\n",
    "    "
   ]
  },
  {
   "cell_type": "code",
   "execution_count": 11,
   "id": "4455a6bb-3c92-4d48-b461-448a7ed779cf",
   "metadata": {},
   "outputs": [],
   "source": [
    "from nltk.stem.porter import PorterStemmer\n",
    "def stem_tokenizer(text):\n",
    "    ps = PorterStemmer()\n",
    "    words = re.sub(r\"[^A-Za-z0-9\\-]\", \" \", text).lower().split()\n",
    "    words = [ps.stem(word) for word in words]\n",
    "    return words "
   ]
  },
  {
   "cell_type": "code",
   "execution_count": 12,
   "id": "4f8c34d6-7a81-4589-b9c3-e00fb716f4b4",
   "metadata": {
    "tags": []
   },
   "outputs": [],
   "source": [
    "from sklearn.feature_extraction.text import CountVectorizer"
   ]
  },
  {
   "cell_type": "code",
   "execution_count": 38,
   "id": "ea4d5457-49f8-47ba-a793-3121c07e6f86",
   "metadata": {
    "tags": []
   },
   "outputs": [],
   "source": [
    "cv = CountVectorizer(\n",
    "                     tokenizer=stem_tokenizer,\n",
    "                    max_df=0.5,\n",
    "                    min_df=5,\n",
    "                    ngram_range=(1, 2))"
   ]
  },
  {
   "cell_type": "code",
   "execution_count": 39,
   "id": "9dcb8bf8-d1bb-4e94-ba2c-188addd81a92",
   "metadata": {
    "tags": []
   },
   "outputs": [],
   "source": [
    "# cv.fit_transform(X_train[1:500])"
   ]
  },
  {
   "cell_type": "markdown",
   "id": "8637a5fc-db82-4b61-a36d-b372b2e441e7",
   "metadata": {},
   "source": [
    "# Logistic Regression Model"
   ]
  },
  {
   "cell_type": "code",
   "execution_count": 40,
   "id": "d30862f4-fc94-48f1-a8bc-804fe7ec1811",
   "metadata": {},
   "outputs": [],
   "source": [
    "from sklearn.linear_model import LogisticRegression\n",
    "from sklearn.pipeline import Pipeline"
   ]
  },
  {
   "cell_type": "code",
   "execution_count": 41,
   "id": "7f4e0d86-7b79-4b81-9ef4-c15c97abcad7",
   "metadata": {},
   "outputs": [],
   "source": [
    "# lg = LogisticRegression(penalty='l1', C = 1, solver = 'saga', n_jobs =-1)\n",
    "# lg = LogisticRegression()"
   ]
  },
  {
   "cell_type": "code",
   "execution_count": 42,
   "id": "35cdc14c-cb51-48d0-a49a-421f0f761001",
   "metadata": {},
   "outputs": [],
   "source": [
    "steps = [('cv',cv),\n",
    "        ('lg',LogisticRegression(max_iter = 1000))]\n",
    "lg_model = Pipeline(steps)"
   ]
  },
  {
   "cell_type": "code",
   "execution_count": 43,
   "id": "3e593871-2b0c-4dc9-a8ea-18e7225c3f10",
   "metadata": {},
   "outputs": [
    {
     "data": {
      "text/plain": [
       "Pipeline(steps=[('cv',\n",
       "                 CountVectorizer(max_df=0.5, min_df=5, ngram_range=(1, 2),\n",
       "                                 tokenizer=<function stem_tokenizer at 0x0000021C09A01820>)),\n",
       "                ('lg', LogisticRegression(max_iter=1000))])"
      ]
     },
     "execution_count": 43,
     "metadata": {},
     "output_type": "execute_result"
    }
   ],
   "source": [
    "\n",
    "lg_model.fit(X_train,y_train)"
   ]
  },
  {
   "cell_type": "code",
   "execution_count": 44,
   "id": "80e7adf3-bd1c-4251-8f0a-a35b63176e69",
   "metadata": {},
   "outputs": [
    {
     "name": "stdout",
     "output_type": "stream",
     "text": [
      "the AUC score is 0.5465193366751708\n",
      "              precision    recall  f1-score   support\n",
      "\n",
      "           0       0.53      0.49      0.51     71832\n",
      "           1       0.56      0.60      0.58     78625\n",
      "\n",
      "    accuracy                           0.55    150457\n",
      "   macro avg       0.55      0.55      0.55    150457\n",
      "weighted avg       0.55      0.55      0.55    150457\n",
      "\n",
      "              precision    recall  f1-score   support\n",
      "\n",
      "           0       0.75      0.65      0.70    166039\n",
      "           1       0.72      0.80      0.76    185027\n",
      "\n",
      "    accuracy                           0.73    351066\n",
      "   macro avg       0.73      0.73      0.73    351066\n",
      "weighted avg       0.73      0.73      0.73    351066\n",
      "\n"
     ]
    }
   ],
   "source": [
    "from sklearn.metrics import roc_auc_score, classification_report\n",
    "\n",
    "\n",
    "# print(precision_score(y_pred,y_test))\n",
    "# # print(recall_score(model.predict(X_test,batch_size=1024),y_test))\n",
    "print ('the AUC score is {}'.format(roc_auc_score(y_test,lg_model.predict(X_test))))\n",
    "print(classification_report(y_test,lg_model.predict(X_test)))\n",
    "print(classification_report(y_train,lg_model.predict(X_train)))"
   ]
  },
  {
   "cell_type": "code",
   "execution_count": 34,
   "id": "b167d624-d008-4166-88b7-efe1ab92b2b4",
   "metadata": {},
   "outputs": [],
   "source": [
    "grams = [''] * len(lg_model['cv'].vocabulary_)\n",
    "for k, v in lg_model['cv'].vocabulary_.items():\n",
    "    grams[v] = k"
   ]
  },
  {
   "cell_type": "code",
   "execution_count": 35,
   "id": "43c617c7-08e5-4e01-8854-8a4bddcb3306",
   "metadata": {},
   "outputs": [],
   "source": [
    "gram_weight = list(zip(grams, lg_model['lg'].coef_[0]))\n",
    "gram_weight.sort(key=lambda x: x[1])"
   ]
  },
  {
   "cell_type": "code",
   "execution_count": 36,
   "id": "3938e98a-e095-42fe-ba61-0ea650d93eaf",
   "metadata": {},
   "outputs": [
    {
     "data": {
      "text/plain": [
       "[('danah price', -2.5660289645902914),\n",
       " ('of third-quart', -2.248685281509173),\n",
       " ('dennison to', -2.1395465164146223),\n",
       " ('twitter price', -2.017727906352048),\n",
       " ('intuit price', -1.986153346949316)]"
      ]
     },
     "execution_count": 36,
     "metadata": {},
     "output_type": "execute_result"
    }
   ],
   "source": [
    "gram_weight[:5]"
   ]
  },
  {
   "cell_type": "code",
   "execution_count": 37,
   "id": "3e9ac3eb-05f2-4dce-b09c-4e49a4742f45",
   "metadata": {},
   "outputs": [
    {
     "data": {
      "text/plain": [
       "[('from covid', 1.8567339447496347),\n",
       " ('financi outlook', 1.908450351188457),\n",
       " ('sherwin-william price', 1.9836594605511892),\n",
       " ('walgreen mywalgreen', 1.9888948186074389),\n",
       " ('leido to', 2.435262487271741)]"
      ]
     },
     "execution_count": 37,
     "metadata": {},
     "output_type": "execute_result"
    }
   ],
   "source": [
    "gram_weight[-5:]"
   ]
  },
  {
   "cell_type": "code",
   "execution_count": 55,
   "id": "522faec7-5e28-41c7-8223-f70be5a98687",
   "metadata": {},
   "outputs": [],
   "source": [
    "from sklearn.feature_extraction.text import TfidfVectorizer\n",
    "tfidf = TfidfVectorizer(\n",
    "                        tokenizer=stem_tokenizer,\n",
    "                        lowercase=True,\n",
    "                        max_df=0.5,\n",
    "                        min_df=20,\n",
    "                        ngram_range=(1, 2)\n",
    "                       )"
   ]
  },
  {
   "cell_type": "code",
   "execution_count": 56,
   "id": "71eb3525-9e07-4293-bf0e-9cc8133b495b",
   "metadata": {},
   "outputs": [],
   "source": [
    "lgclassifier = Pipeline([('tfidf', tfidf), ('lg', LogisticRegression(max_iter = 1000))])"
   ]
  },
  {
   "cell_type": "code",
   "execution_count": 57,
   "id": "f5e2bcaf-94de-4275-ab98-793817af0c4e",
   "metadata": {},
   "outputs": [
    {
     "data": {
      "text/plain": [
       "Pipeline(steps=[('tfidf',\n",
       "                 TfidfVectorizer(max_df=0.5, min_df=20, ngram_range=(1, 2),\n",
       "                                 tokenizer=<function stem_tokenizer at 0x0000021C09A01820>)),\n",
       "                ('lg', LogisticRegression(max_iter=1000))])"
      ]
     },
     "execution_count": 57,
     "metadata": {},
     "output_type": "execute_result"
    }
   ],
   "source": [
    "lgclassifier.fit(X_train,y_train)"
   ]
  },
  {
   "cell_type": "code",
   "execution_count": 58,
   "id": "a8065038-b0f5-4725-b287-c6ffcb9a978a",
   "metadata": {},
   "outputs": [
    {
     "name": "stdout",
     "output_type": "stream",
     "text": [
      "the AUC score is 0.5465193366751708\n",
      "              precision    recall  f1-score   support\n",
      "\n",
      "           0       0.53      0.49      0.51     71832\n",
      "           1       0.56      0.60      0.58     78625\n",
      "\n",
      "    accuracy                           0.55    150457\n",
      "   macro avg       0.55      0.55      0.55    150457\n",
      "weighted avg       0.55      0.55      0.55    150457\n",
      "\n",
      "              precision    recall  f1-score   support\n",
      "\n",
      "           0       0.75      0.65      0.70    166039\n",
      "           1       0.72      0.80      0.76    185027\n",
      "\n",
      "    accuracy                           0.73    351066\n",
      "   macro avg       0.73      0.73      0.73    351066\n",
      "weighted avg       0.73      0.73      0.73    351066\n",
      "\n"
     ]
    }
   ],
   "source": [
    "from sklearn.metrics import roc_auc_score, classification_report\n",
    "\n",
    "\n",
    "# print(precision_score(y_pred,y_test))\n",
    "# # print(recall_score(model.predict(X_test,batch_size=1024),y_test))\n",
    "print ('the AUC score is {}'.format(roc_auc_score(y_test,lg_model.predict(X_test))))\n",
    "print(classification_report(y_test,lg_model.predict(X_test)))\n",
    "print(classification_report(y_train,lg_model.predict(X_train)))"
   ]
  },
  {
   "cell_type": "code",
   "execution_count": null,
   "id": "b6c0616b-fe7c-4e93-803e-4b7238a93ccf",
   "metadata": {},
   "outputs": [],
   "source": []
  },
  {
   "cell_type": "code",
   "execution_count": 51,
   "id": "b8179f30-3aaf-45fc-aa95-10f9b18926fb",
   "metadata": {},
   "outputs": [],
   "source": [
    "grams = [''] * len(lgclassifier['tfidf'].vocabulary_)\n",
    "for k, v in lgclassifier['tfidf'].vocabulary_.items():\n",
    "    grams[v] = k"
   ]
  },
  {
   "cell_type": "code",
   "execution_count": 52,
   "id": "fdbda4f6-e1f8-4231-a396-bfc99b78d64c",
   "metadata": {},
   "outputs": [],
   "source": [
    "gram_weight = list(zip(grams, lgclassifier['lg'].coef_[0]))\n",
    "gram_weight.sort(key=lambda x: x[1])"
   ]
  },
  {
   "cell_type": "code",
   "execution_count": 53,
   "id": "812d3e08-114b-4318-abb8-c310fc19858e",
   "metadata": {},
   "outputs": [
    {
     "data": {
      "text/plain": [
       "[('trump', -2.757505267363266),\n",
       " ('3 5', -2.5561237028754253),\n",
       " ('20th option', -2.3828295740582646),\n",
       " ('twitter price', -2.1918000387959964),\n",
       " ('danah price', -2.1474558544029696)]"
      ]
     },
     "execution_count": 53,
     "metadata": {},
     "output_type": "execute_result"
    }
   ],
   "source": [
    "gram_weight[:5]"
   ]
  },
  {
   "cell_type": "code",
   "execution_count": 54,
   "id": "42a20db3-80ff-4a09-9603-9c5f10f4ca67",
   "metadata": {},
   "outputs": [
    {
     "data": {
      "text/plain": [
       "[('file form', 2.1383954022734915),\n",
       " ('walgreen mywalgreen', 2.2916767205245674),\n",
       " ('august 27th', 2.4097685501303148),\n",
       " ('abbott', 2.5525481223843944),\n",
       " ('twitter suspend', 2.671070479077651)]"
      ]
     },
     "execution_count": 54,
     "metadata": {},
     "output_type": "execute_result"
    }
   ],
   "source": [
    "gram_weight[-5:]"
   ]
  },
  {
   "cell_type": "code",
   "execution_count": null,
   "id": "8b38a691-b6d3-433d-8034-6309388907a6",
   "metadata": {},
   "outputs": [],
   "source": []
  }
 ],
 "metadata": {
  "kernelspec": {
   "display_name": "Python 3 (ipykernel)",
   "language": "python",
   "name": "python3"
  },
  "language_info": {
   "codemirror_mode": {
    "name": "ipython",
    "version": 3
   },
   "file_extension": ".py",
   "mimetype": "text/x-python",
   "name": "python",
   "nbconvert_exporter": "python",
   "pygments_lexer": "ipython3",
   "version": "3.9.7"
  }
 },
 "nbformat": 4,
 "nbformat_minor": 5
}
